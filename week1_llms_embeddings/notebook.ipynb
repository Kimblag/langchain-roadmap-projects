{
  "cells": [
    {
      "cell_type": "markdown",
      "metadata": {
        "id": "Kpzx8RDp7tSV"
      },
      "source": [
        "# Semana 1 – Fundamentos RAG con Dataset de Recetas\n",
        "\n",
        "**Objetivo:**  \n",
        "Practicar la generación de embeddings y la búsqueda semántica de información externa.\n",
        "\n",
        "**Dataset:**  \n",
        "- Recetas en español (title, ingredients, steps, url, uuid)  \n",
        "- Fuente: Hugging Face  \n",
        "- Tamaño: ~1300 recetas\n",
        "\n",
        "**Qué se hará en este notebook:**  \n",
        "1. Leer y explorar el dataset con Pandas.  \n",
        "2. Preprocesar los textos para generar embeddings.  \n",
        "3. Generar embeddings usando Sentence-Transformers.  \n",
        "4. Indexar los embeddings en FAISS para búsqueda semántica.  \n",
        "5. Hacer consultas de prueba y recuperar las recetas más relevantes.\n",
        "\n",
        "**Notas:**\n",
        "*   pandas → leer CSV y manipular dataframes.\n",
        "*   numpy → operaciones vectoriales.\n",
        "*   sentence-transformers → generar embeddings.\n",
        "*   faiss-cpu → búsqueda vectorial eficiente."
      ]
    },
    {
      "cell_type": "code",
      "execution_count": null,
      "metadata": {
        "colab": {
          "base_uri": "https://localhost:8080/"
        },
        "collapsed": true,
        "id": "G4UdHTQh7i_d",
        "outputId": "69119c3a-20e7-4680-c34c-ea91f3cc73fa"
      },
      "outputs": [],
      "source": [
        "!pip install pandas numpy sentence-transformers faiss-cpu"
      ]
    },
    {
      "cell_type": "code",
      "execution_count": 4,
      "metadata": {
        "id": "Y5OB_R6c8cXN"
      },
      "outputs": [],
      "source": [
        "import pandas as pd\n",
        "import numpy as np\n",
        "from sentence_transformers import SentenceTransformer\n",
        "import faiss"
      ]
    },
    {
      "cell_type": "code",
      "execution_count": null,
      "metadata": {
        "id": "VqZsYlwn-E-K"
      },
      "outputs": [],
      "source": [
        "# file path in the colab's root directory\n",
        "csv_path = '/recipes_dataset.csv'"
      ]
    },
    {
      "cell_type": "code",
      "execution_count": 17,
      "metadata": {
        "colab": {
          "base_uri": "https://localhost:8080/",
          "height": 196
        },
        "id": "IX0VFFee-ka5",
        "outputId": "88ae2dba-2656-4c6f-a7dc-fd10bfcba963"
      },
      "outputs": [
        {
          "data": {
            "application/vnd.google.colaboratory.intrinsic+json": {
              "summary": "{\n  \"name\": \"df\",\n  \"rows\": 99,\n  \"fields\": [\n    {\n      \"column\": \"title\",\n      \"properties\": {\n        \"dtype\": \"string\",\n        \"num_unique_values\": 99,\n        \"samples\": [\n          \"Arepa con Carne Asada\",\n          \"Carne con Champi\\u00c3\\u00b1ones\",\n          \"Arroz Atollado de Pescado\"\n        ],\n        \"semantic_type\": \"\",\n        \"description\": \"\"\n      }\n    },\n    {\n      \"column\": \"url\",\n      \"properties\": {\n        \"dtype\": \"string\",\n        \"num_unique_values\": 99,\n        \"samples\": [\n          \"https://www.mycolombianrecipes.com/es/arepa-con-carne-asada/\",\n          \"https://www.mycolombianrecipes.com/es/carne-con-champinones/\",\n          \"https://www.mycolombianrecipes.com/es/arroz-atollado-de-pescado/\"\n        ],\n        \"semantic_type\": \"\",\n        \"description\": \"\"\n      }\n    },\n    {\n      \"column\": \"ingredients\",\n      \"properties\": {\n        \"dtype\": \"string\",\n        \"num_unique_values\": 99,\n        \"samples\": [\n          \"4 arepas cocinadas\\r\\n2 libras de carne de falda de carne cortada en porciones iguales\\r\\n\\u00c2\\u00bd taza de cebolla picada finamente\\r\\n4 dientes de ajo picados\\r\\n2 cebollas largas finamente picadas\\r\\n1 cucharadita de comino molido\\r\\n\\u00c2\\u00bd taza de cerveza\\r\\n1 cucharada de aceite vegetal\\r\\nSal y pimienta negra\\r\\n\\u00c2\\u00bc taza de cilantro fresco\",\n          \"4 cucharadas de mantequilla\\r\\n1 libra de solomito o lomo cortado en cubos de \\u00c2\\u00bd pulgadas\\r\\n\\u00c2\\u00bd cucharadita de comino molido\\r\\n\\u00c2\\u00bd cucharadita de tomillo molido\\r\\n1 taza de cebolla blanca finamente picada\\r\\n4 dientes de ajo picados\\r\\n1 libra de champi\\u00c3\\u00b1ones en rodajas\\r\\n\\u00c2\\u00bc taza de caldo de carne\\r\\nSal y pimienta para probar\\r\\n\\u00c2\\u00bc taza de crema de leche\",\n          \"2 cucharadas de mantequilla\\r\\n\\u00c2\\u00bd taza de cebolla finamente picada\\r\\n2 cebollas largas picadas\\r\\n1 piment\\u00c3\\u00b3n rojo peque\\u00c3\\u00b1o cortado en cubitos\\r\\n1 taza de arroz\\r\\n\\u00c2\\u00bd taza de caldo verduras o caldo de pescado\\r\\n2 tazas de leche de coco\\r\\n1 libra de mahi mahi cortado en peque\\u00c3\\u00b1os trozos\\r\\n\\u00c2\\u00bd cucharadita de comino molido\\r\\n\\u00c2\\u00bc cucharadita de achiote molido o color\"\n        ],\n        \"semantic_type\": \"\",\n        \"description\": \"\"\n      }\n    },\n    {\n      \"column\": \"steps\",\n      \"properties\": {\n        \"dtype\": \"string\",\n        \"num_unique_values\": 99,\n        \"samples\": [\n          \"Mezcle la cebolla picada, el ajo picado, la cebolla larga, el comino, la cerveza, el aceite, sal y la pimienta juntos para hacer un adobo para la carne.\\r\\nFrote el adobo en los filetes y dejar marinar durante 3 horas o durante la noche en el refrigerador.\\r\\nAsar los filetes a fuego alto a la cocci\\u00c3\\u00b3n deseada, unos 3 minutos en cada lado. Para servir, encima de cada arepa con un trozo de carne, espolvorear cilantro fresco y servir inmediatamente.\",\n          \"En una sart\\u00c3\\u00a9n grande, caliente 2 cucharadas de mantequilla a fuego medio-alto. A\\u00c3\\u00b1adir la carne, el comino y el tomillo y cocine revolviendo con frecuencia, hasta que se dore unos 2 minutos. Transferir la carne a un plato.\\r\\nA\\u00c3\\u00b1adir la cebolla, el ajo y los champi\\u00c3\\u00b1ones con el resto de la mantequilla a la sart\\u00c3\\u00a9n y cocine a fuego medio-alto, revolviendo con frecuencia, hasta que los champi\\u00c3\\u00b1ones est\\u00c3\\u00a9n ligeramente dorados, unos 5 minutos. A\\u00c3\\u00b1adir el caldo de carne y cocinar durante unos 4 minutos m\\u00c3\\u00a1s. Retirar del fuego y a\\u00c3\\u00b1adir la carne, crema de leche, sal y pimienta. Cocinara a fuego lento, revolviendo constantemente hasta que la crema se caliente, aproximadamente 4 minutos. No permita que hierva. Se sazona con sal y pimienta a su gusto.\",\n          \"Calentar la mantequilla en una olla mediana a fuego medio.\\r\\nAgregue las cebollas y piment\\u00c3\\u00b3n rojo. Cocine hasta que todo est\\u00c3\\u00a9 suave, aproximadamente 5 minutos.\\r\\nAgregue el arroz, la sal y la pimienta y revuelva hasta que est\\u00c3\\u00a9 bien cubierto.\\r\\nAgregue el caldo de verduras, achiote, leche de coco, pescado y comino molido. Mezclar bien.\\r\\nLlevar a hervir durante unos 5 minutos, luego reducir el fuego a bajo. Tape y cocine por unos 25 a 30 minutos o hasta que el arroz es tierno.\\r\\nPruebe y ajuste la saz\\u00c3\\u00b3n. Dejar reposar durante unos 5 minutos, a\\u00c3\\u00b1adir cebolla larga picada y servir.\"\n        ],\n        \"semantic_type\": \"\",\n        \"description\": \"\"\n      }\n    },\n    {\n      \"column\": \"uuid\",\n      \"properties\": {\n        \"dtype\": \"string\",\n        \"num_unique_values\": 99,\n        \"samples\": [\n          \"86af71f6-e16a-11ed-9895-a96d6180cd25\",\n          \"86af71e0-e16a-11ed-af85-a96d6180cd25\",\n          \"86af7217-e16a-11ed-a197-a96d6180cd25\"\n        ],\n        \"semantic_type\": \"\",\n        \"description\": \"\"\n      }\n    }\n  ]\n}",
              "type": "dataframe",
              "variable_name": "df"
            },
            "text/html": [
              "\n",
              "  <div id=\"df-046314e9-509a-4e01-b372-f38f5e84aed8\" class=\"colab-df-container\">\n",
              "    <div>\n",
              "<style scoped>\n",
              "    .dataframe tbody tr th:only-of-type {\n",
              "        vertical-align: middle;\n",
              "    }\n",
              "\n",
              "    .dataframe tbody tr th {\n",
              "        vertical-align: top;\n",
              "    }\n",
              "\n",
              "    .dataframe thead th {\n",
              "        text-align: right;\n",
              "    }\n",
              "</style>\n",
              "<table border=\"1\" class=\"dataframe\">\n",
              "  <thead>\n",
              "    <tr style=\"text-align: right;\">\n",
              "      <th></th>\n",
              "      <th>title</th>\n",
              "      <th>url</th>\n",
              "      <th>ingredients</th>\n",
              "      <th>steps</th>\n",
              "      <th>uuid</th>\n",
              "    </tr>\n",
              "  </thead>\n",
              "  <tbody>\n",
              "    <tr>\n",
              "      <th>0</th>\n",
              "      <td>Arepas de Queso</td>\n",
              "      <td>https://www.mycolombianrecipes.com/es/arepas-d...</td>\n",
              "      <td>1 taza de harina de arepa blanca o amarilla\\r\\...</td>\n",
              "      <td>Combine la harina de maÃ­z, agua caliente, el ...</td>\n",
              "      <td>86af61e4-e16a-11ed-9591-a96d6180cd25</td>\n",
              "    </tr>\n",
              "    <tr>\n",
              "      <th>1</th>\n",
              "      <td>Sudado de Pollo</td>\n",
              "      <td>https://www.mycolombianrecipes.com/es/sudado-d...</td>\n",
              "      <td>8 muslos de pollo sin la piel\\r\\n1 cucharada d...</td>\n",
              "      <td>En una olla grande, caliente el aceite vegetal...</td>\n",
              "      <td>86af61e5-e16a-11ed-abef-a96d6180cd25</td>\n",
              "    </tr>\n",
              "    <tr>\n",
              "      <th>2</th>\n",
              "      <td>Sancocho TrifÃ¡sico</td>\n",
              "      <td>https://www.mycolombianrecipes.com/es/sancocho...</td>\n",
              "      <td>1 taza de cebolla picada\\r\\n1 pimientÃ³n rojo ...</td>\n",
              "      <td>Coloque la cebolla, el pimientÃ³n, el ajo y el...</td>\n",
              "      <td>86af61e6-e16a-11ed-bcf5-a96d6180cd25</td>\n",
              "    </tr>\n",
              "  </tbody>\n",
              "</table>\n",
              "</div>\n",
              "    <div class=\"colab-df-buttons\">\n",
              "\n",
              "  <div class=\"colab-df-container\">\n",
              "    <button class=\"colab-df-convert\" onclick=\"convertToInteractive('df-046314e9-509a-4e01-b372-f38f5e84aed8')\"\n",
              "            title=\"Convert this dataframe to an interactive table.\"\n",
              "            style=\"display:none;\">\n",
              "\n",
              "  <svg xmlns=\"http://www.w3.org/2000/svg\" height=\"24px\" viewBox=\"0 -960 960 960\">\n",
              "    <path d=\"M120-120v-720h720v720H120Zm60-500h600v-160H180v160Zm220 220h160v-160H400v160Zm0 220h160v-160H400v160ZM180-400h160v-160H180v160Zm440 0h160v-160H620v160ZM180-180h160v-160H180v160Zm440 0h160v-160H620v160Z\"/>\n",
              "  </svg>\n",
              "    </button>\n",
              "\n",
              "  <style>\n",
              "    .colab-df-container {\n",
              "      display:flex;\n",
              "      gap: 12px;\n",
              "    }\n",
              "\n",
              "    .colab-df-convert {\n",
              "      background-color: #E8F0FE;\n",
              "      border: none;\n",
              "      border-radius: 50%;\n",
              "      cursor: pointer;\n",
              "      display: none;\n",
              "      fill: #1967D2;\n",
              "      height: 32px;\n",
              "      padding: 0 0 0 0;\n",
              "      width: 32px;\n",
              "    }\n",
              "\n",
              "    .colab-df-convert:hover {\n",
              "      background-color: #E2EBFA;\n",
              "      box-shadow: 0px 1px 2px rgba(60, 64, 67, 0.3), 0px 1px 3px 1px rgba(60, 64, 67, 0.15);\n",
              "      fill: #174EA6;\n",
              "    }\n",
              "\n",
              "    .colab-df-buttons div {\n",
              "      margin-bottom: 4px;\n",
              "    }\n",
              "\n",
              "    [theme=dark] .colab-df-convert {\n",
              "      background-color: #3B4455;\n",
              "      fill: #D2E3FC;\n",
              "    }\n",
              "\n",
              "    [theme=dark] .colab-df-convert:hover {\n",
              "      background-color: #434B5C;\n",
              "      box-shadow: 0px 1px 3px 1px rgba(0, 0, 0, 0.15);\n",
              "      filter: drop-shadow(0px 1px 2px rgba(0, 0, 0, 0.3));\n",
              "      fill: #FFFFFF;\n",
              "    }\n",
              "  </style>\n",
              "\n",
              "    <script>\n",
              "      const buttonEl =\n",
              "        document.querySelector('#df-046314e9-509a-4e01-b372-f38f5e84aed8 button.colab-df-convert');\n",
              "      buttonEl.style.display =\n",
              "        google.colab.kernel.accessAllowed ? 'block' : 'none';\n",
              "\n",
              "      async function convertToInteractive(key) {\n",
              "        const element = document.querySelector('#df-046314e9-509a-4e01-b372-f38f5e84aed8');\n",
              "        const dataTable =\n",
              "          await google.colab.kernel.invokeFunction('convertToInteractive',\n",
              "                                                    [key], {});\n",
              "        if (!dataTable) return;\n",
              "\n",
              "        const docLinkHtml = 'Like what you see? Visit the ' +\n",
              "          '<a target=\"_blank\" href=https://colab.research.google.com/notebooks/data_table.ipynb>data table notebook</a>'\n",
              "          + ' to learn more about interactive tables.';\n",
              "        element.innerHTML = '';\n",
              "        dataTable['output_type'] = 'display_data';\n",
              "        await google.colab.output.renderOutput(dataTable, element);\n",
              "        const docLink = document.createElement('div');\n",
              "        docLink.innerHTML = docLinkHtml;\n",
              "        element.appendChild(docLink);\n",
              "      }\n",
              "    </script>\n",
              "  </div>\n",
              "\n",
              "\n",
              "    <div id=\"df-1626cdf8-0c5c-4abf-8510-7d2217a3df2e\">\n",
              "      <button class=\"colab-df-quickchart\" onclick=\"quickchart('df-1626cdf8-0c5c-4abf-8510-7d2217a3df2e')\"\n",
              "                title=\"Suggest charts\"\n",
              "                style=\"display:none;\">\n",
              "\n",
              "<svg xmlns=\"http://www.w3.org/2000/svg\" height=\"24px\"viewBox=\"0 0 24 24\"\n",
              "     width=\"24px\">\n",
              "    <g>\n",
              "        <path d=\"M19 3H5c-1.1 0-2 .9-2 2v14c0 1.1.9 2 2 2h14c1.1 0 2-.9 2-2V5c0-1.1-.9-2-2-2zM9 17H7v-7h2v7zm4 0h-2V7h2v10zm4 0h-2v-4h2v4z\"/>\n",
              "    </g>\n",
              "</svg>\n",
              "      </button>\n",
              "\n",
              "<style>\n",
              "  .colab-df-quickchart {\n",
              "      --bg-color: #E8F0FE;\n",
              "      --fill-color: #1967D2;\n",
              "      --hover-bg-color: #E2EBFA;\n",
              "      --hover-fill-color: #174EA6;\n",
              "      --disabled-fill-color: #AAA;\n",
              "      --disabled-bg-color: #DDD;\n",
              "  }\n",
              "\n",
              "  [theme=dark] .colab-df-quickchart {\n",
              "      --bg-color: #3B4455;\n",
              "      --fill-color: #D2E3FC;\n",
              "      --hover-bg-color: #434B5C;\n",
              "      --hover-fill-color: #FFFFFF;\n",
              "      --disabled-bg-color: #3B4455;\n",
              "      --disabled-fill-color: #666;\n",
              "  }\n",
              "\n",
              "  .colab-df-quickchart {\n",
              "    background-color: var(--bg-color);\n",
              "    border: none;\n",
              "    border-radius: 50%;\n",
              "    cursor: pointer;\n",
              "    display: none;\n",
              "    fill: var(--fill-color);\n",
              "    height: 32px;\n",
              "    padding: 0;\n",
              "    width: 32px;\n",
              "  }\n",
              "\n",
              "  .colab-df-quickchart:hover {\n",
              "    background-color: var(--hover-bg-color);\n",
              "    box-shadow: 0 1px 2px rgba(60, 64, 67, 0.3), 0 1px 3px 1px rgba(60, 64, 67, 0.15);\n",
              "    fill: var(--button-hover-fill-color);\n",
              "  }\n",
              "\n",
              "  .colab-df-quickchart-complete:disabled,\n",
              "  .colab-df-quickchart-complete:disabled:hover {\n",
              "    background-color: var(--disabled-bg-color);\n",
              "    fill: var(--disabled-fill-color);\n",
              "    box-shadow: none;\n",
              "  }\n",
              "\n",
              "  .colab-df-spinner {\n",
              "    border: 2px solid var(--fill-color);\n",
              "    border-color: transparent;\n",
              "    border-bottom-color: var(--fill-color);\n",
              "    animation:\n",
              "      spin 1s steps(1) infinite;\n",
              "  }\n",
              "\n",
              "  @keyframes spin {\n",
              "    0% {\n",
              "      border-color: transparent;\n",
              "      border-bottom-color: var(--fill-color);\n",
              "      border-left-color: var(--fill-color);\n",
              "    }\n",
              "    20% {\n",
              "      border-color: transparent;\n",
              "      border-left-color: var(--fill-color);\n",
              "      border-top-color: var(--fill-color);\n",
              "    }\n",
              "    30% {\n",
              "      border-color: transparent;\n",
              "      border-left-color: var(--fill-color);\n",
              "      border-top-color: var(--fill-color);\n",
              "      border-right-color: var(--fill-color);\n",
              "    }\n",
              "    40% {\n",
              "      border-color: transparent;\n",
              "      border-right-color: var(--fill-color);\n",
              "      border-top-color: var(--fill-color);\n",
              "    }\n",
              "    60% {\n",
              "      border-color: transparent;\n",
              "      border-right-color: var(--fill-color);\n",
              "    }\n",
              "    80% {\n",
              "      border-color: transparent;\n",
              "      border-right-color: var(--fill-color);\n",
              "      border-bottom-color: var(--fill-color);\n",
              "    }\n",
              "    90% {\n",
              "      border-color: transparent;\n",
              "      border-bottom-color: var(--fill-color);\n",
              "    }\n",
              "  }\n",
              "</style>\n",
              "\n",
              "      <script>\n",
              "        async function quickchart(key) {\n",
              "          const quickchartButtonEl =\n",
              "            document.querySelector('#' + key + ' button');\n",
              "          quickchartButtonEl.disabled = true;  // To prevent multiple clicks.\n",
              "          quickchartButtonEl.classList.add('colab-df-spinner');\n",
              "          try {\n",
              "            const charts = await google.colab.kernel.invokeFunction(\n",
              "                'suggestCharts', [key], {});\n",
              "          } catch (error) {\n",
              "            console.error('Error during call to suggestCharts:', error);\n",
              "          }\n",
              "          quickchartButtonEl.classList.remove('colab-df-spinner');\n",
              "          quickchartButtonEl.classList.add('colab-df-quickchart-complete');\n",
              "        }\n",
              "        (() => {\n",
              "          let quickchartButtonEl =\n",
              "            document.querySelector('#df-1626cdf8-0c5c-4abf-8510-7d2217a3df2e button');\n",
              "          quickchartButtonEl.style.display =\n",
              "            google.colab.kernel.accessAllowed ? 'block' : 'none';\n",
              "        })();\n",
              "      </script>\n",
              "    </div>\n",
              "\n",
              "    </div>\n",
              "  </div>\n"
            ],
            "text/plain": [
              "                 title  ...                                  uuid\n",
              "0      Arepas de Queso  ...  86af61e4-e16a-11ed-9591-a96d6180cd25\n",
              "1      Sudado de Pollo  ...  86af61e5-e16a-11ed-abef-a96d6180cd25\n",
              "2  Sancocho TrifÃ¡sico  ...  86af61e6-e16a-11ed-bcf5-a96d6180cd25\n",
              "\n",
              "[3 rows x 5 columns]"
            ]
          },
          "execution_count": 17,
          "metadata": {},
          "output_type": "execute_result"
        }
      ],
      "source": [
        "# check the content\n",
        "df = pd.read_csv(csv_path)\n",
        "df.head(3)"
      ]
    },
    {
      "cell_type": "markdown",
      "metadata": {
        "id": "5zGBbrSjCUE7"
      },
      "source": [
        "## 1. Preprocesamiento de texto"
      ]
    },
    {
      "cell_type": "code",
      "execution_count": null,
      "metadata": {
        "id": "EEMC8tHr_v4v"
      },
      "outputs": [],
      "source": [
        "# create a unique column with title + ingredients + steps. This helps the embedding to geet all the relevant information.\n",
        "# it is important to mention that there are many ways to do this because it depends on the case and this is the simplest way\n",
        "\n",
        "df[\"text\"] = df[\"title\"] + \". Ingredientes: \" + df[\"ingredients\"] + \". Pasos: \" + df[\"steps\"]"
      ]
    },
    {
      "cell_type": "code",
      "execution_count": 19,
      "metadata": {
        "colab": {
          "base_uri": "https://localhost:8080/",
          "height": 81
        },
        "id": "eVej8CjzBwyW",
        "outputId": "f9d007c9-2165-4dc1-c100-14b4e4c52416"
      },
      "outputs": [
        {
          "data": {
            "application/vnd.google.colaboratory.intrinsic+json": {
              "summary": "{\n  \"name\": \"df[[\\\"title\\\", \\\"text\\\"]]\",\n  \"rows\": 1,\n  \"fields\": [\n    {\n      \"column\": \"title\",\n      \"properties\": {\n        \"dtype\": \"string\",\n        \"num_unique_values\": 1,\n        \"samples\": [\n          \"Arepas de Queso\"\n        ],\n        \"semantic_type\": \"\",\n        \"description\": \"\"\n      }\n    },\n    {\n      \"column\": \"text\",\n      \"properties\": {\n        \"dtype\": \"string\",\n        \"num_unique_values\": 1,\n        \"samples\": [\n          \"Arepas de Queso. Ingredientes: 1 taza de harina de arepa blanca o amarilla\\r\\n1 taza de agua tibia\\r\\n\\u00e2\\u2026\\u201c taza de queso mozzarella o queso blanco rallado\\r\\n2 cucharadas de mantequilla\\r\\nSal. Pasos: Combine la harina de ma\\u00c3\\u00adz, agua caliente, el queso, la mantequilla y sal, mezclando bien. Deje que la mezcla repose durante cinco minutos.\\r\\nAmasar con las manos durante unos 3 minutos humedeciendo las manos con agua mientras amasa.\\r\\nFormar 4 bolas con la masa. Coloque cada bola entre 2 bolsas de pl\\u00c3\\u00a1stico y con una cubierta olla aplane a \\u00c2\\u00bd de pulgada.\\r\\nA\\u00c3\\u00b1adir la mantequilla en una sart\\u00c3\\u00a9n antiadherente a fuego medio. Coloque las arepas en la sart\\u00c3\\u00a9n y cocine durante aproximadamente 3 minutos de cada lado, hasta que est\\u00c3\\u00a9n doradas.\"\n        ],\n        \"semantic_type\": \"\",\n        \"description\": \"\"\n      }\n    }\n  ]\n}",
              "type": "dataframe"
            },
            "text/html": [
              "\n",
              "  <div id=\"df-32832f58-4746-4371-8b85-1754dc303aae\" class=\"colab-df-container\">\n",
              "    <div>\n",
              "<style scoped>\n",
              "    .dataframe tbody tr th:only-of-type {\n",
              "        vertical-align: middle;\n",
              "    }\n",
              "\n",
              "    .dataframe tbody tr th {\n",
              "        vertical-align: top;\n",
              "    }\n",
              "\n",
              "    .dataframe thead th {\n",
              "        text-align: right;\n",
              "    }\n",
              "</style>\n",
              "<table border=\"1\" class=\"dataframe\">\n",
              "  <thead>\n",
              "    <tr style=\"text-align: right;\">\n",
              "      <th></th>\n",
              "      <th>title</th>\n",
              "      <th>text</th>\n",
              "    </tr>\n",
              "  </thead>\n",
              "  <tbody>\n",
              "    <tr>\n",
              "      <th>0</th>\n",
              "      <td>Arepas de Queso</td>\n",
              "      <td>Arepas de Queso. Ingredientes: 1 taza de harin...</td>\n",
              "    </tr>\n",
              "  </tbody>\n",
              "</table>\n",
              "</div>\n",
              "    <div class=\"colab-df-buttons\">\n",
              "\n",
              "  <div class=\"colab-df-container\">\n",
              "    <button class=\"colab-df-convert\" onclick=\"convertToInteractive('df-32832f58-4746-4371-8b85-1754dc303aae')\"\n",
              "            title=\"Convert this dataframe to an interactive table.\"\n",
              "            style=\"display:none;\">\n",
              "\n",
              "  <svg xmlns=\"http://www.w3.org/2000/svg\" height=\"24px\" viewBox=\"0 -960 960 960\">\n",
              "    <path d=\"M120-120v-720h720v720H120Zm60-500h600v-160H180v160Zm220 220h160v-160H400v160Zm0 220h160v-160H400v160ZM180-400h160v-160H180v160Zm440 0h160v-160H620v160ZM180-180h160v-160H180v160Zm440 0h160v-160H620v160Z\"/>\n",
              "  </svg>\n",
              "    </button>\n",
              "\n",
              "  <style>\n",
              "    .colab-df-container {\n",
              "      display:flex;\n",
              "      gap: 12px;\n",
              "    }\n",
              "\n",
              "    .colab-df-convert {\n",
              "      background-color: #E8F0FE;\n",
              "      border: none;\n",
              "      border-radius: 50%;\n",
              "      cursor: pointer;\n",
              "      display: none;\n",
              "      fill: #1967D2;\n",
              "      height: 32px;\n",
              "      padding: 0 0 0 0;\n",
              "      width: 32px;\n",
              "    }\n",
              "\n",
              "    .colab-df-convert:hover {\n",
              "      background-color: #E2EBFA;\n",
              "      box-shadow: 0px 1px 2px rgba(60, 64, 67, 0.3), 0px 1px 3px 1px rgba(60, 64, 67, 0.15);\n",
              "      fill: #174EA6;\n",
              "    }\n",
              "\n",
              "    .colab-df-buttons div {\n",
              "      margin-bottom: 4px;\n",
              "    }\n",
              "\n",
              "    [theme=dark] .colab-df-convert {\n",
              "      background-color: #3B4455;\n",
              "      fill: #D2E3FC;\n",
              "    }\n",
              "\n",
              "    [theme=dark] .colab-df-convert:hover {\n",
              "      background-color: #434B5C;\n",
              "      box-shadow: 0px 1px 3px 1px rgba(0, 0, 0, 0.15);\n",
              "      filter: drop-shadow(0px 1px 2px rgba(0, 0, 0, 0.3));\n",
              "      fill: #FFFFFF;\n",
              "    }\n",
              "  </style>\n",
              "\n",
              "    <script>\n",
              "      const buttonEl =\n",
              "        document.querySelector('#df-32832f58-4746-4371-8b85-1754dc303aae button.colab-df-convert');\n",
              "      buttonEl.style.display =\n",
              "        google.colab.kernel.accessAllowed ? 'block' : 'none';\n",
              "\n",
              "      async function convertToInteractive(key) {\n",
              "        const element = document.querySelector('#df-32832f58-4746-4371-8b85-1754dc303aae');\n",
              "        const dataTable =\n",
              "          await google.colab.kernel.invokeFunction('convertToInteractive',\n",
              "                                                    [key], {});\n",
              "        if (!dataTable) return;\n",
              "\n",
              "        const docLinkHtml = 'Like what you see? Visit the ' +\n",
              "          '<a target=\"_blank\" href=https://colab.research.google.com/notebooks/data_table.ipynb>data table notebook</a>'\n",
              "          + ' to learn more about interactive tables.';\n",
              "        element.innerHTML = '';\n",
              "        dataTable['output_type'] = 'display_data';\n",
              "        await google.colab.output.renderOutput(dataTable, element);\n",
              "        const docLink = document.createElement('div');\n",
              "        docLink.innerHTML = docLinkHtml;\n",
              "        element.appendChild(docLink);\n",
              "      }\n",
              "    </script>\n",
              "  </div>\n",
              "\n",
              "\n",
              "    </div>\n",
              "  </div>\n"
            ],
            "text/plain": [
              "             title                                               text\n",
              "0  Arepas de Queso  Arepas de Queso. Ingredientes: 1 taza de harin..."
            ]
          },
          "execution_count": 19,
          "metadata": {},
          "output_type": "execute_result"
        }
      ],
      "source": [
        "#check an example\n",
        "df[[\"title\", \"text\"]].head(1)"
      ]
    },
    {
      "cell_type": "markdown",
      "metadata": {
        "id": "T6bT_EoQCXDE"
      },
      "source": [
        "## 2. Generación de embeddings\n",
        "* Como resultado cada fila del dataset tendrá un embedding en **vector numérico**.\n",
        "* Estos embeddings son los que se indexan para realizar la búsqueda semántica.\n",
        "\n",
        "Link del modelo utilizado: https://huggingface.co/sentence-transformers/all-MiniLM-L6-v2"
      ]
    },
    {
      "cell_type": "code",
      "execution_count": 20,
      "metadata": {
        "id": "Zi9kdmfvCZ3V"
      },
      "outputs": [],
      "source": [
        "# load the model\n",
        "model = SentenceTransformer(\"all-MiniLM-L6-v2\")"
      ]
    },
    {
      "cell_type": "code",
      "execution_count": 21,
      "metadata": {
        "id": "kpsMlLGtDN9V"
      },
      "outputs": [],
      "source": [
        "# generate embeddings\n",
        "embeddings = model.encode(df[\"text\"].tolist(), show_profress_bar=True)"
      ]
    },
    {
      "cell_type": "code",
      "execution_count": 22,
      "metadata": {
        "colab": {
          "base_uri": "https://localhost:8080/"
        },
        "id": "dTXoyS5dDgrk",
        "outputId": "c18d7604-d6c5-47cf-9eb3-73810b79bf7c"
      },
      "outputs": [
        {
          "name": "stdout",
          "output_type": "stream",
          "text": [
            "Embedding size: (99, 384)\n"
          ]
        }
      ],
      "source": [
        "# show embeddings size\n",
        "print(f\"Embedding size: {embeddings.shape}\")"
      ]
    },
    {
      "cell_type": "markdown",
      "metadata": {
        "id": "jfN_u-LYHyxg"
      },
      "source": [
        "#### Explicación de 'shape' (99, 384)\n",
        "* 99 → cantidad de registros procesados (el df con 99 recetas).\n",
        "* 384 → dimensión de cada embedding, o sea el tamaño del vector numérico que representa cada receta.\n",
        "\n",
        "##### Qué significa la dimensión (384)\n",
        "\n",
        "- Cada embedding es un vector en un espacio de 384 dimensiones.\n",
        "- Cada número dentro del vector representa una “característica” del texto según lo aprendió el modelo all-MiniLM-L6-v2.\n",
        "- Estos 384 números juntos permiten medir similitud semántica entre textos usando distancias (coseno, Euclidiana, etc.)."
      ]
    },
    {
      "cell_type": "markdown",
      "metadata": {
        "id": "4Fl48-abIfCu"
      },
      "source": [
        "## 3. Indexación con FAISS\n",
        "Con esta indexacion se pueden hacer consultas usando búsqueda por similaridad; puede ser euclidiana o por coseno."
      ]
    },
    {
      "cell_type": "code",
      "execution_count": null,
      "metadata": {
        "id": "IIJYR5KLHJXN"
      },
      "outputs": [],
      "source": [
        "# embedding dimension\n",
        "dim = embeddings.shape[1] #384\n",
        "\n",
        "# create index\n",
        "index = faiss.IndexFlatL2(dim) # L2 = euclidian distance (menor distancia = más cercano / más parecido semánticamente)"
      ]
    },
    {
      "cell_type": "code",
      "execution_count": 29,
      "metadata": {
        "colab": {
          "base_uri": "https://localhost:8080/"
        },
        "id": "xw8tzuuoJVTg",
        "outputId": "2ce0cede-65dc-46bd-f731-4cf7f8baf466"
      },
      "outputs": [
        {
          "name": "stdout",
          "output_type": "stream",
          "text": [
            "<class 'numpy.ndarray'>\n"
          ]
        }
      ],
      "source": [
        "print(type(np.array(embeddings, dtype=\"float32\")))"
      ]
    },
    {
      "cell_type": "code",
      "execution_count": 30,
      "metadata": {
        "id": "3NkLhtmpJZZs"
      },
      "outputs": [],
      "source": [
        "# add vectors to index\n",
        "index.add(np.array(embeddings, dtype=\"float32\"))"
      ]
    },
    {
      "cell_type": "code",
      "execution_count": 32,
      "metadata": {
        "colab": {
          "base_uri": "https://localhost:8080/"
        },
        "id": "80tIxxuBJtZa",
        "outputId": "938bd6c4-e3f0-4f66-a852-e2bab2f331e8"
      },
      "outputs": [
        {
          "name": "stdout",
          "output_type": "stream",
          "text": [
            "Vectors quantity: 99\n"
          ]
        }
      ],
      "source": [
        "print(f\"Vectors quantity: {index.ntotal}\") #99"
      ]
    },
    {
      "cell_type": "markdown",
      "metadata": {
        "id": "zGMpzvhoJ_J8"
      },
      "source": [
        "## 4. Test queries\n",
        "Dataset externo → embeddings → FAISS → recuperación semántica. (sin LLM)"
      ]
    },
    {
      "cell_type": "code",
      "execution_count": 105,
      "metadata": {
        "id": "UM_vkR7TJ3Pc"
      },
      "outputs": [],
      "source": [
        "query = \"bandeja paisa\"\n",
        "\n",
        "# encode query\n",
        "query_vec = model.encode([query])"
      ]
    },
    {
      "cell_type": "code",
      "execution_count": 106,
      "metadata": {
        "id": "T3Y8GxDmKczI"
      },
      "outputs": [],
      "source": [
        "# SEARCH only 5 -> k = 5\n",
        "# distancias entre el vector de la query y los vectores más cercanos.\n",
        "# índices de los registros más cercanos en el DataFrame.\n",
        "\n",
        "distances, records_index = index.search(np.array(query_vec, dtype=\"float32\"), k=5)"
      ]
    },
    {
      "cell_type": "code",
      "execution_count": 107,
      "metadata": {
        "colab": {
          "base_uri": "https://localhost:8080/"
        },
        "id": "2DsnxwKXKwuR",
        "outputId": "d4613a36-3563-4aa8-b9d1-761851114fd2"
      },
      "outputs": [
        {
          "name": "stdout",
          "output_type": "stream",
          "text": [
            "[[1.0703467 1.3371392 1.3414571 1.3536253 1.3541741]]\n"
          ]
        }
      ],
      "source": [
        "print(distances)"
      ]
    },
    {
      "cell_type": "code",
      "execution_count": 108,
      "metadata": {
        "colab": {
          "base_uri": "https://localhost:8080/"
        },
        "id": "KpdgO3GLKyXY",
        "outputId": "5f7cbc2b-1b4e-42f9-b030-767ae1c5136a"
      },
      "outputs": [
        {
          "name": "stdout",
          "output_type": "stream",
          "text": [
            "[[56  4 11 15 71]]\n"
          ]
        }
      ],
      "source": [
        "print(records_index)"
      ]
    },
    {
      "cell_type": "code",
      "execution_count": 109,
      "metadata": {
        "colab": {
          "base_uri": "https://localhost:8080/"
        },
        "id": "bkjOkrbQLuGs",
        "outputId": "547e63de-5e23-4763-b228-68aa6387e131"
      },
      "outputs": [
        {
          "data": {
            "text/plain": [
              "array([56,  4, 11, 15, 71])"
            ]
          },
          "execution_count": 109,
          "metadata": {},
          "output_type": "execute_result"
        }
      ],
      "source": [
        "records_index[0] # array([21, 20, 39])"
      ]
    },
    {
      "cell_type": "code",
      "execution_count": 112,
      "metadata": {
        "colab": {
          "base_uri": "https://localhost:8080/"
        },
        "id": "JKJTHcIbLQd-",
        "outputId": "59324143-7103-48f1-a864-b50b1a7b38be"
      },
      "outputs": [
        {
          "name": "stdout",
          "output_type": "stream",
          "text": [
            "Bandeja Paisa\n",
            "Frijoles AntioqueÃ±os\r\n",
            "Arroz Blanco\r\n",
            "Carne en polvo\r\n",
            "Chicharrones \r\n",
            "Chorizos Cocidos\r\n",
            "Huevos Fritos\r\n",
            "Tajadas de PlÃ¡tano\r\n",
            "Aguacate\r\n",
            "Hogao\n",
            "Preparar los frijoles, hogao y carne en polvo el dÃ­a danterior y guardar en la nevera.\r\n",
            "Cuando este listo para servir la bandeja paisa, caliente los frijoles ,hogao, la carne en polvo y prepare los chicharrones.\r\n",
            "Cocine el arroz blanco y los plÃ¡tanos. Â FreÃ­r los huevos y chorizos.\n",
            "\n",
            "\n",
            "Sopa de Lentejas Colombiana\n",
            "1 cucharadita de aceite vegetal\r\n",
            "1 taza de chorizo en rodajas\r\n",
            "Â½ taza de cebolla picada\r\n",
            "1 diente de ajo picado\r\n",
            "Â½ taza de cebolla larga picada\r\n",
            "Â½ taza de tomates picados\r\n",
            "5 tazas de agua\r\n",
            "1 taza de lentejas\r\n",
            "Â½ cucharadita de sal\r\n",
            "Â½ cucharadita de pimienta\r\n",
            "Â½ taza de zanahorias ralladas\r\n",
            "Â½ taza de papas cortadas en trozos\r\n",
            "Â½ cucharadita de comino en polvo\n",
            "Cocinar el chorizo en el aceite en una olla grande a fuego medio, revolviendo de vez en cuando, unos 5 minutos. Con una cuchara ranurada, transfiera el chorizo a un plato cubierto con papel toalla.\r\n",
            "Agregue las zanahorias, la cebolla, el ajo, el tomate y cebolla larga a la olla, sazonar con sal y pimienta. Cocine revolviendo ocasionalmente unos 12 minutos. Agregue el comino y cocinar 1 minuto mÃ¡s.\r\n",
            "AÃ±adir las lentejas y el agua, llevar a hervir. Luego baje el fuego a medio-bajo, tape y cocine hasta que las lentejas estuÃ©n suaves pero no blandas unos 45 minutos.\r\n",
            "AÃ±adir el chorizo y papas, cocinar por 15 a 20 minutos hasta que las papas estÃ©n bien cocidas y tiernas. Agregue mÃ¡s agua si es necesario. Servir inmediatamente.\n",
            "\n",
            "\n",
            "Pescado Aborrajado\n",
            "1 huevo batido\r\n",
            "4 cucharadas de harina de trigo para todo uso\r\n",
            "Â½ cucharada de sazÃ³n con color\r\n",
            "Â¼ de taza de leche\r\n",
            "Sal y pimienta\r\n",
            "4 filetes de bacalao o trucha\r\n",
            "Sal y pimienta\r\n",
            "Â½ cucharadita de comino molido\r\n",
            "Aceite vegetal o de canola para cocinar el pescado\n",
            "Hacer la masa: En un tazÃ³n, mezclar el huevo batido, harina, sazÃ³n con color, leche, sal y pimienta. Batir para hacer una masa suave.\r\n",
            "Sazone el pecado con sal, pimienta y comino molido. Sumerja los filetes de pescado en la mezcla, dejando gotear el exceso.\r\n",
            "Caliente aceite en una sartÃ©n. FreÃ­r el pescado durante unos 5 a 7 minutos hasta que estÃ©n crujientes y dorados. Retire el pescado y coloque sobre toallas de papel. Sazone con sal y pimienta y sirva caliente.\n",
            "\n",
            "\n",
            "Sopa de Lentejas y Pollo\n",
            "1 taza de cebolla picada\r\n",
            "2 dientes de ajo picados\r\n",
            "3 cebollas largas picadas\r\n",
            "1 Â¼ taza de lentejas secas\r\n",
            "Sal y pimienta al gusto\r\n",
            "1 taza de papa pelada y cortada en cubitos\r\n",
            "Â¼ cucharadita de comino en polvo\r\n",
            "2 zanahorias peladas y cortadas en cubitos\r\n",
            "2 cucharadas de pasta de tomate\r\n",
            "8 tazas de caldo de pollo\r\n",
            "2 pechugas de pollo grande deshuesadas y sin piel\n",
            "Coloque la cebolla, el ajo y las cebolla larga en una licuadora con 1 taza de caldo de pollo, mezcle hasta que todo estÃ© mezclado.\r\n",
            "Coloque en una olla y agregue el resto del caldo de pollo y las lentejas, luego lleve a hervir.\r\n",
            "Reduzca el fuego y agregue la papa, el comino, las zanahorias, la pasta de tomate y el pollo y continÃºe cocinando durante aproximadamente 45 minutos o hasta que las lentejas estÃ©n blandas. Retire las pechugas de pollo y colÃ³quelas en un plato para enfriar. Desmechar el pollo y regrÃ©selo a la olla. Sazonar con sal y pimienta y servir con arroz.\n",
            "\n",
            "\n",
            "Arepa Boyacense\n",
            "2 tazas de harina de maÃ­z amarilla pre cocida masarepa\r\n",
            "5 cucharadas de harina de trigo\r\n",
            "1 + Â½ tazas de agua caliente\r\n",
            "Â½ taza de leche\r\n",
            "Â¼ cucharadita de sal\r\n",
            "2 cucharadas de azÃºcar\r\n",
            "3 cucharadas de mantequilla suave un poco mÃ¡s para cocinar\r\n",
            "2 tazas de queso fresco o quesito colombiano\n",
            "En un tazÃ³n mediano mezcle la masarepa, la harina, el agua, la leche, la sal, el azÃºcar y la mantequilla. Amasar con las manos durante unos 3 minutos mojuÃ¡ndose las manos con agua mientras trabaja.\r\n",
            "Forme 12 bolitas con la masa. Coloca cada bola entre 2 bolsas de plÃ¡stico o papel de pergamino, y con una tapa plana, aplanar a aproximadamente.\r\n",
            "Colocar el queso en el centro de la mitad de uno los cÃ­rculos de masa y luego poner otro cÃ­rculo encima para cubrir. Con los dedos, sellar los bordes alrededor del queso, lo que evitaruÃ¡ que el queso se derrame.\r\n",
            "AÃ±adir la mantequilla a un sartÃ©n antiadherente a fuego medio. Coloque las arepas en la sartuÃ©n y cocine durante aproximadamente 3 minutos en cada lado, hasta hasta que estÃ©n doradas. Servir inmediatamente.\r\n",
            "Add the butter to a nonstick pan over medium heat. Place the arepas in the pan and cook about 3 minutes on each side, until a crust forms or until they are golden brown. Serve immediately.\n",
            "\n",
            "\n"
          ]
        }
      ],
      "source": [
        "for idx in records_index[0]:\n",
        "  print(df.iloc[idx][\"title\"])\n",
        "  print(df.iloc[idx][\"ingredients\"])\n",
        "  print(df.iloc[idx][\"steps\"])\n",
        "  print(\"\\n\")"
      ]
    },
    {
      "cell_type": "code",
      "execution_count": null,
      "metadata": {
        "id": "wIeVRewZLmo7"
      },
      "outputs": [],
      "source": []
    },
    {
      "cell_type": "markdown",
      "metadata": {
        "id": "gYCA7drtNZVf"
      },
      "source": [
        "### Example with Cosine"
      ]
    },
    {
      "cell_type": "code",
      "execution_count": 92,
      "metadata": {
        "id": "Ksop_CFGNbvr"
      },
      "outputs": [],
      "source": [
        "# normalizar embeddings para que el producto sea equivalente a cosine similarity\n",
        "embeddings_norm = embeddings / np.linalg.norm(embeddings, axis=1, keepdims=True)"
      ]
    },
    {
      "cell_type": "code",
      "execution_count": null,
      "metadata": {
        "id": "RZ-NFXgTOjXE"
      },
      "outputs": [],
      "source": [
        "dim = embeddings.shape[1] # 384\n",
        "\n",
        "# create index\n",
        "index_cos = faiss.IndexFlatIP(dim) # cosine (más cercano a 1 = más parecido)\n",
        "index_cos.add(np.array(embeddings_norm, dtype=\"float32\"))"
      ]
    },
    {
      "cell_type": "code",
      "execution_count": 94,
      "metadata": {
        "id": "DIyTxKl9OlDB"
      },
      "outputs": [],
      "source": [
        "# Normalizar la query\n",
        "query_vec_norm = query_vec / np.linalg.norm(query_vec, axis=1, keepdims=True)"
      ]
    },
    {
      "cell_type": "code",
      "execution_count": 95,
      "metadata": {
        "id": "x5Uj9bXXPG_u"
      },
      "outputs": [],
      "source": [
        "# buscar las 5\n",
        "similarities, indices = index_cos.search(np.array(query_vec_norm, dtype=\"float32\"), k=5)"
      ]
    },
    {
      "cell_type": "code",
      "execution_count": 96,
      "metadata": {
        "colab": {
          "base_uri": "https://localhost:8080/"
        },
        "id": "61fO3-tqPtuR",
        "outputId": "3bfde11c-3216-4f3c-cfbc-31a137e89ed3"
      },
      "outputs": [
        {
          "data": {
            "text/plain": [
              "array([[0.47808105, 0.45292142, 0.4106421 , 0.40561402, 0.4047767 ]],\n",
              "      dtype=float32)"
            ]
          },
          "execution_count": 96,
          "metadata": {},
          "output_type": "execute_result"
        }
      ],
      "source": [
        "similarities"
      ]
    },
    {
      "cell_type": "code",
      "execution_count": 97,
      "metadata": {
        "colab": {
          "base_uri": "https://localhost:8080/"
        },
        "id": "JlqN73nkPz6N",
        "outputId": "43c533aa-7244-439e-9724-39ef0a9c4b66"
      },
      "outputs": [
        {
          "data": {
            "text/plain": [
              "array([[21, 92, 64, 63, 42]])"
            ]
          },
          "execution_count": 97,
          "metadata": {},
          "output_type": "execute_result"
        }
      ],
      "source": [
        "indices"
      ]
    },
    {
      "cell_type": "code",
      "execution_count": 98,
      "metadata": {
        "colab": {
          "base_uri": "https://localhost:8080/"
        },
        "id": "VjMKQvjSP0jS",
        "outputId": "94bee1ba-6f58-408e-a22b-4573ad950dd2"
      },
      "outputs": [
        {
          "name": "stdout",
          "output_type": "stream",
          "text": [
            "title                                    Sopa de Arroz con Pollo\n",
            "url            https://www.mycolombianrecipes.com/es/sopa-de-...\n",
            "ingredients    8 muslos de pollo o 4 pechugas\\r\\n7 tazas de a...\n",
            "steps          En una olla grande colocar todos los ingredien...\n",
            "uuid                        86af71cd-e16a-11ed-b708-a96d6180cd25\n",
            "text           Sopa de Arroz con Pollo. Ingredientes: 8 muslo...\n",
            "Name: 21, dtype: object\n",
            "title                             Sopa de Pollo y PlÃ¡tano Verde\n",
            "url            https://www.mycolombianrecipes.com/es/sopa-de-...\n",
            "ingredients    2 pechugas de pollo con hueso y sin piel\\r\\n10...\n",
            "steps          Coloque el pollo en una olla grande con el com...\n",
            "uuid                        86af7214-e16a-11ed-b863-a96d6180cd25\n",
            "text           Sopa de Pollo y PlÃ¡tano Verde. Ingredientes: ...\n",
            "Name: 92, dtype: object\n",
            "title                                      Sopa de Pollo y Pasta\n",
            "url            https://www.mycolombianrecipes.com/es/sopa-de-...\n",
            "ingredients    6 muslos de pollo con hueso y piel\\r\\n8 tazas ...\n",
            "steps          Coloque el pollo en una olla mediana y agregue...\n",
            "uuid                        86af71f8-e16a-11ed-8bf2-a96d6180cd25\n",
            "text           Sopa de Pollo y Pasta. Ingredientes: 6 muslos ...\n",
            "Name: 64, dtype: object\n",
            "title                         Sopa de Arroz con Pollo y Cilantro\n",
            "url            https://www.mycolombianrecipes.com/es/sopa-de-...\n",
            "ingredients    6 tazas de caldo de pollo\\r\\n4 cebollas largas...\n",
            "steps          Coloque el caldo de pollo, cilantro, cebolla l...\n",
            "uuid                        86af71f7-e16a-11ed-9d94-a96d6180cd25\n",
            "text           Sopa de Arroz con Pollo y Cilantro. Ingredient...\n",
            "Name: 63, dtype: object\n",
            "title               Piernas de Pollo Asadas al Estilo Colombiano\n",
            "url            https://www.mycolombianrecipes.com/es/piernas-...\n",
            "ingredients    12 muslos de pollo con piel\\r\\nAceite en aeros...\n",
            "steps          En un procesador de alimentos, coloque la cebo...\n",
            "uuid                        86af71e2-e16a-11ed-b603-a96d6180cd25\n",
            "text           Piernas de Pollo Asadas al Estilo Colombiano. ...\n",
            "Name: 42, dtype: object\n"
          ]
        }
      ],
      "source": [
        "for indice in indices[0]:\n",
        "  print(df.iloc[indice])"
      ]
    },
    {
      "cell_type": "code",
      "execution_count": null,
      "metadata": {
        "id": "e6DChy0OQD9b"
      },
      "outputs": [],
      "source": []
    }
  ],
  "metadata": {
    "colab": {
      "provenance": []
    },
    "kernelspec": {
      "display_name": "Python 3",
      "name": "python3"
    },
    "language_info": {
      "name": "python"
    }
  },
  "nbformat": 4,
  "nbformat_minor": 0
}
